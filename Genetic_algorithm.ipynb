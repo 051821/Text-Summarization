{
  "nbformat": 4,
  "nbformat_minor": 0,
  "metadata": {
    "colab": {
      "provenance": []
    },
    "kernelspec": {
      "name": "python3",
      "display_name": "Python 3"
    },
    "language_info": {
      "name": "python"
    }
  },
  "cells": [
    {
      "cell_type": "code",
      "source": [
        "import random\n",
        "import re\n",
        "import pandas as pd\n",
        "\n",
        "df = pd.read_csv(\"/content/sumtext.txt\",sep=\" \")"
      ],
      "metadata": {
        "id": "ATm5AkkBqGSH"
      },
      "execution_count": 19,
      "outputs": []
    },
    {
      "cell_type": "code",
      "source": [
        "import pandas as pd\n",
        "\n",
        "# Assuming df is a DataFrame containing file paths in a column named 'file_path'\n",
        "df = pd.DataFrame({'file_path': ['/content/sumtext.txt']})  # Replace 'your_file_path.txt' with the actual file path\n",
        "\n",
        "# Iterate through each file path in the DataFrame\n",
        "for file_path in df['file_path']:\n",
        "    with open(file_path, 'r') as file:\n",
        "        # Read the entire content of the file\n",
        "        text = file.read()\n",
        "\n",
        "    # Calculate the total length of the text\n",
        "    total_length = len(text)\n",
        "    print(\"Total length of the text in\", file_path, \":\", total_length)\n",
        "\n"
      ],
      "metadata": {
        "colab": {
          "base_uri": "https://localhost:8080/"
        },
        "id": "601Nj0W0w1mg",
        "outputId": "96750b37-6cd3-43de-82c5-50585d49feab"
      },
      "execution_count": 21,
      "outputs": [
        {
          "output_type": "stream",
          "name": "stdout",
          "text": [
            "Total length of the text in /content/sumtext.txt : 633\n"
          ]
        }
      ]
    },
    {
      "cell_type": "code",
      "source": [
        "import random\n",
        "import re\n",
        "import pandas as pd\n",
        "\n",
        "text = str(df)\n",
        "\n",
        "# Function to preprocess text\n",
        "def preprocess_text(text):\n",
        "    # Remove non-alphanumeric characters and convert to lowercase\n",
        "    text = re.sub(r'[^a-zA-Z0-9\\s]', '', text.lower())\n",
        "    return text\n",
        "\n",
        "# Function to tokenize text into words\n",
        "def tokenize_text(text):\n",
        "    # Tokenize text into words\n",
        "    words = text.split()\n",
        "    return words\n",
        "\n",
        "# Function to generate initial population\n",
        "def generate_initial_population(population_size, num_words):\n",
        "    population = []\n",
        "    for _ in range(population_size):\n",
        "        summary = [random.choice([0, 1]) for _ in range(num_words)]\n",
        "        population.append(summary)\n",
        "    return population\n",
        "\n",
        "# Function to evaluate fitness of summaries\n",
        "def evaluate_fitness(population, reference_text):\n",
        "    fitness_scores = []\n",
        "    for summary in population:\n",
        "        summary_text = ' '.join([word for i, word in enumerate(reference_text) if summary[i] == 1])\n",
        "        # Fitness is measured by the overlap of words between summary and original text\n",
        "        overlap = len(set(summary_text.split()) & set(reference_text))\n",
        "        fitness_scores.append(overlap)\n",
        "    return fitness_scores\n",
        "\n",
        "# Function for selection using roulette wheel selection\n",
        "def selection(population, fitness_scores, num_parents):\n",
        "    total_fitness = sum(fitness_scores)\n",
        "    selected_parents = []\n",
        "    for _ in range(num_parents):\n",
        "        rand_value = random.uniform(0, total_fitness)\n",
        "        cumulative_fitness = 0\n",
        "        for i, fitness in enumerate(fitness_scores):\n",
        "            cumulative_fitness += fitness\n",
        "            if cumulative_fitness >= rand_value:\n",
        "                selected_parents.append(population[i])\n",
        "                break\n",
        "    return selected_parents\n",
        "\n",
        "# Function for crossover using single-point crossover\n",
        "def crossover(parent1, parent2):\n",
        "    crossover_point = random.randint(0, len(parent1))\n",
        "    child1 = parent1[:crossover_point] + parent2[crossover_point:]\n",
        "    child2 = parent2[:crossover_point] + parent1[crossover_point:]\n",
        "    return child1, child2\n",
        "\n",
        "# Function for mutation\n",
        "def mutation(summary, mutation_rate):\n",
        "    mutated_summary = []\n",
        "    for bit in summary:\n",
        "        if random.random() < mutation_rate:\n",
        "            mutated_summary.append(1 - bit)  # Flip the bit\n",
        "        else:\n",
        "            mutated_summary.append(bit)\n",
        "    return mutated_summary\n",
        "\n",
        "# Main genetic algorithm loop\n",
        "population_size = 10\n",
        "num_generations = 5\n",
        "mutation_rate = 0.1\n",
        "\n",
        "# Preprocess text\n",
        "preprocessed_text = preprocess_text(text)\n",
        "reference_text = tokenize_text(preprocessed_text)\n",
        "num_words = len(reference_text)\n",
        "\n",
        "# Generate initial population\n",
        "population = generate_initial_population(population_size, num_words)\n",
        "\n",
        "# Evaluate fitness of initial population\n",
        "fitness_scores = evaluate_fitness(population, reference_text)\n",
        "\n",
        "# Main loop\n",
        "for generation in range(num_generations):\n",
        "    # Selection\n",
        "    parents = selection(population, fitness_scores, 2)\n",
        "    offspring = []\n",
        "    for _ in range(population_size - 2):\n",
        "        # Crossover\n",
        "        child1, child2 = crossover(parents[0], parents[1])\n",
        "        # Mutation\n",
        "        child1 = mutation(child1, mutation_rate)\n",
        "        child2 = mutation(child2, mutation_rate)\n",
        "        offspring.extend([child1, child2])\n",
        "\n",
        "    # Combine parents and offspring\n",
        "    population = parents + offspring\n",
        "\n",
        "    # Evaluate fitness of new population\n",
        "    fitness_scores = evaluate_fitness(population, reference_text)\n",
        "\n",
        "# Select the best summary\n",
        "best_summary_index = fitness_scores.index(max(fitness_scores))\n",
        "best_summary = population[best_summary_index]\n",
        "\n",
        "# Generate final summary\n",
        "final_summary = ' '.join([word for i, word in enumerate(reference_text) if best_summary[i] == 1])\n",
        "\n",
        "print(\"Best Summary:\", final_summary)\n",
        "print(\"Length of text after summarization:\", len(final_summary))\n"
      ],
      "metadata": {
        "colab": {
          "base_uri": "https://localhost:8080/"
        },
        "id": "FYN48Gxpf3ML",
        "outputId": "6a3262a4-8ba7-4730-f64c-185e05b7e31d"
      },
      "execution_count": 22,
      "outputs": [
        {
          "output_type": "stream",
          "name": "stdout",
          "text": [
            "Best Summary: filepath 0 contentsumtexttxt\n",
            "Length of text after summarization: 28\n"
          ]
        }
      ]
    },
    {
      "cell_type": "code",
      "source": [],
      "metadata": {
        "id": "-654hAHEqgGz"
      },
      "execution_count": null,
      "outputs": []
    }
  ]
}